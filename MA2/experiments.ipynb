{
 "cells": [
  {
   "cell_type": "code",
   "execution_count": null,
   "metadata": {},
   "outputs": [],
   "source": [
    "from run_bnn import run_bnn, bnn_experiment\n",
    "from run_sbi import run_snpe, sbi_experiment\n",
    "import numpy as np\n",
    "import torch"
   ]
  },
  {
   "cell_type": "markdown",
   "metadata": {},
   "source": [
    "# Run ABC-SMC (Reproducibility)\n",
    "run the script run_abc.py to generate all the necessary data from the ABC-SMC sampler. Alternatively one can directly discover and tune the notebook: abc_smc.ipynb.\n",
    "\n",
    "Will compute and store the following files \n",
    "* smcabc_post_10gen - posterior samples\n",
    "* smcabc_trails_10gen.npy - number of simulated proposals\n",
    "\n",
    "Obs ABC-SMC requre many proposals, therefore this takes some time"
   ]
  },
  {
   "cell_type": "code",
   "execution_count": null,
   "metadata": {},
   "outputs": [],
   "source": [
    "#obs to stop the script, interupt the kernel several times... \n",
    "%run run_abc.py"
   ]
  },
  {
   "cell_type": "markdown",
   "metadata": {},
   "source": [
    "## Run SNPE-C (Reproducibility)\n",
    "run the SNPE-C (sbi package) script.\n",
    "\n",
    "### Generating the following files\n",
    "* data/sbi_data_post.npy - posterior samples\n",
    "* data/sbi_data_time.npy - elapsed times"
   ]
  },
  {
   "cell_type": "code",
   "execution_count": null,
   "metadata": {},
   "outputs": [],
   "source": [
    "sbi_experiment()"
   ]
  },
  {
   "cell_type": "markdown",
   "metadata": {},
   "source": [
    "# Custom SNPE (Testing)\n",
    "For testing the script with fewer runs and other parameters. Obs that these results might not work for all plots in plotting.ipynb"
   ]
  },
  {
   "cell_type": "code",
   "execution_count": null,
   "metadata": {},
   "outputs": [],
   "source": [
    "ID = 'data'\n",
    "sbi_post, sbi_time, sbi_post_object = run_snpe(total_runs=1, num_generation=6, seed=2, nde='maf')"
   ]
  },
  {
   "cell_type": "code",
   "execution_count": null,
   "metadata": {},
   "outputs": [],
   "source": [
    "#Obs need \"data\" folder \n",
    "np.save(f'{ID}/sbi_{ID}_post', sbi_post)\n",
    "np.save(f'{ID}/sbi_{ID}_time', sbi_time)"
   ]
  },
  {
   "cell_type": "code",
   "execution_count": null,
   "metadata": {},
   "outputs": [],
   "source": [
    "#Take DirectPosterior to get the NN\n",
    "test = sbi_post_object[0]"
   ]
  },
  {
   "cell_type": "code",
   "execution_count": null,
   "metadata": {},
   "outputs": [],
   "source": [
    "#count the number of trainable weights/parameters\n",
    "def count_parameters(model):\n",
    "    total_params = 0\n",
    "    for name, parameter in model.named_parameters():\n",
    "        if not parameter.requires_grad: continue\n",
    "        param = parameter.numel()\n",
    "        total_params+=param\n",
    "        print(name,':', param)\n",
    "    print(f\"Total Trainable Params: {total_params}\")"
   ]
  },
  {
   "cell_type": "code",
   "execution_count": null,
   "metadata": {},
   "outputs": [],
   "source": [
    "count_parameters(test.net)"
   ]
  },
  {
   "cell_type": "markdown",
   "metadata": {},
   "source": [
    "# Run BNN (Reproducibility)\n",
    "\n",
    "\n",
    "### The following files are produced\n",
    "posterior samples from 4 bins per parameter, repeated 10 times, a 6 step iteration, with 0.05 threshold. With the time elapsed.\n",
    "* data/bcnn_data_post.npy' - posterior samples\n",
    "* data/bcnn_data_time.npy' - time elapsed \n",
    "\n",
    "posterior samples from 3 bins per parameter, repeated 10 times, a 6 step iteration, with 0.05 threshold.\n",
    "* data/bcnn_data_bins3_post.npy - posterior samples\n",
    "\n",
    "posterior samples from 5 bins, repeated 10 times, a 6 step iteration, with 0.05 threshold.\n",
    "* data/bcnn_data_bins5_post.npy - posterior samples\n",
    "\n",
    "posterior samples from 4 bins, repeated 10 times, a 6 step iteration, with no threshold.\n",
    "* data/bcnn_data_no_thresh_post.npy - posterior samples\n",
    "\n",
    "posterior samples from 4 bins, repeated 10 times, a 6 step iteration, with exponential decreasing threshold.\n",
    "* data/bcnn_data_exp_thresh_post.npy - posterior samples"
   ]
  },
  {
   "cell_type": "code",
   "execution_count": null,
   "metadata": {},
   "outputs": [],
   "source": [
    "import tensorflow as tf\n",
    "\n",
    "#in case CUDA is causing problems...\n",
    "tf.config.set_visible_devices([], 'GPU')"
   ]
  },
  {
   "cell_type": "code",
   "execution_count": null,
   "metadata": {},
   "outputs": [],
   "source": [
    "bnn_experiment()"
   ]
  },
  {
   "cell_type": "markdown",
   "metadata": {},
   "source": [
    "# Custom BNN (Testing)\n",
    "For testing the script with fewer runs and other parameters.\n",
    "Obs that these results might not work for all plots in plotting.ipynb"
   ]
  },
  {
   "cell_type": "code",
   "execution_count": null,
   "metadata": {},
   "outputs": [],
   "source": [
    "ID = 'data'\n",
    "bcnn_post, bcnn_time = run_bnn(total_runs=2, num_generation=6, seed=3, \n",
    "                               ID=ID, num_bins=4, use_thresh=True, \n",
    "                               thresh=0.05)"
   ]
  },
  {
   "cell_type": "code",
   "execution_count": null,
   "metadata": {},
   "outputs": [],
   "source": [
    "#Obs need \"data\" folder \n",
    "np.save(f'{ID}/bcnn_{ID}_post', bcnn_post)\n",
    "np.save(f'{ID}/bcnn_{ID}_time', bcnn_time)"
   ]
  }
 ],
 "metadata": {
  "kernelspec": {
   "display_name": "Python 3",
   "language": "python",
   "name": "python3"
  },
  "language_info": {
   "codemirror_mode": {
    "name": "ipython",
    "version": 3
   },
   "file_extension": ".py",
   "mimetype": "text/x-python",
   "name": "python",
   "nbconvert_exporter": "python",
   "pygments_lexer": "ipython3",
   "version": "3.8.5"
  }
 },
 "nbformat": 4,
 "nbformat_minor": 2
}
