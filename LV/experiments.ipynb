{
 "cells": [
  {
   "cell_type": "markdown",
   "metadata": {},
   "source": [
    "# Run ABC\n",
    "run the script run_abc.py to generate all the necessary data from the ABC-SMC sampler.\n",
    "\n",
    "Will compute and store the following files \n",
    "* smcabc_posterior_5gen.npy - posterior samples\n",
    "* smcabc_posterior_5gen_time.npy - elapsed time\n",
    "* smcabc_posterior_5gen_res.npy - posterior object"
   ]
  },
  {
   "cell_type": "code",
   "execution_count": null,
   "metadata": {},
   "outputs": [],
   "source": [
    "%run run_abc.py"
   ]
  },
  {
   "cell_type": "markdown",
   "metadata": {},
   "source": [
    "# Run BNN\n",
    "Similar to above, the script run_bnn.py will generate all the files from the experiments regarding the BCNN approach explored in the paper.\n",
    "\n",
    "## The following files are produced\n",
    "posterior samples from 5 classed (bins), repeated 5 times, a 8 step iteration, with 0.05 threshold. With the time elapsed.\n",
    "* bnn_res_5_5round_8gen_theta_thresh.npy \n",
    "* bnn_res_5_5round_8gen_time_thresh.npy\n",
    "\n",
    "posterior samples from 4 bins, repeated 5 times, a 8 step iteration, with 0.05 threshold. With the time elapsed.\n",
    "* bnn_res_4_5round_8gen_theta_thresh.npy - posterior samples from 4 bins, repeated 5 times, a 8 step iteration, with 0.05 threshold.\n",
    "* bnn_res_4_5round_8gen_time_thresh.npy - time for above\n",
    "\n",
    "posterior samples from 3 bins, repeated 5 times, a 8 step iteration, with 0.05 threshold. With the time elapsed.\n",
    "* bnn_res_3_5round_8gen_theta_thresh.npy - posterior samples from 3 bins, repeated 5 times, a 8 step iteration, with 0.05 threshold.\n",
    "* bnn_res_3_5round_8gen_time_thresh.npy - time for above\n",
    "\n",
    "posterior samples from 5 bins, repeated 5 times, a 8 step iteration, with no threshold. With the time elapsed.\n",
    "* bnn_res_5_5round_8gen_theta.npy - posterior samples from 5 bins, repeated 5 times, a 8 step iteration, with no threshold.\n",
    "* bnn_res_5_5round_8gen_theta.npy - time for above"
   ]
  },
  {
   "cell_type": "code",
   "execution_count": null,
   "metadata": {},
   "outputs": [],
   "source": [
    "%run run_bnn.py"
   ]
  },
  {
   "cell_type": "markdown",
   "metadata": {},
   "source": [
    "# Run SNPE\n",
    "And finally run the SNPE (sbi package) script.\n",
    "\n",
    "Generating the following files\n",
    "* SBI_10_10gen_large.npy - sbi posterior object* SBI_10_10gen_large_sample.npy ' posterior samples\n",
    "* SBI_10_10gen_large_sample_times.npy - elapsed times"
   ]
  },
  {
   "cell_type": "code",
   "execution_count": null,
   "metadata": {},
   "outputs": [],
   "source": [
    "%run run_sbo.py"
   ]
  }
 ],
 "metadata": {
  "kernelspec": {
   "display_name": "Python 3",
   "language": "python",
   "name": "python3"
  },
  "language_info": {
   "codemirror_mode": {
    "name": "ipython",
    "version": 3
   },
   "file_extension": ".py",
   "mimetype": "text/x-python",
   "name": "python",
   "nbconvert_exporter": "python",
   "pygments_lexer": "ipython3",
   "version": "3.7.4"
  }
 },
 "nbformat": 4,
 "nbformat_minor": 4
}
